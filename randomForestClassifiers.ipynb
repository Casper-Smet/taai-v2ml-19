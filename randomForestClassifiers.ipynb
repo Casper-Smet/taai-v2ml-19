{
 "cells": [
  {
   "cell_type": "markdown",
   "metadata": {
    "collapsed": true,
    "pycharm": {
     "name": "#%% md\n"
    }
   },
   "source": [
    "## Introduction\n",
    "Wees goed voor de bossen, niet alleen in de natuur, maar ook voor het oplossen van problemen.\n",
    "\n",
    "*Random Forests* is een van de meest versatiele machine learning algoritmes die vandaag-de-dag beschikbaar zijn. Door gebruik van hun ingebouwde 'ensembling' (samenstelling) vermogen, is het zelf nog makkelijker geworden om ze te gebruiken om een generiek model te maken (op welke data set dan ook). \n",
    "\n",
    "Echter, vaak worden Random Forest slechts als blackbox model toegpast, zonder dat de programmeurs precies weten wat ze precies aan het doen zijn. Het makkelijkste onderdeel van Machine Learning is het coden van de oplossing; begrijpen wat er gebeurt vergt echter wat meer moeite.\n",
    "\n",
    "Random Forests worden nogal eens verward met 'bagging'; we zullen hieronder het verschil proberen uit te leggen. "
   ]
  },
  {
   "cell_type": "markdown",
   "metadata": {
    "pycharm": {
     "name": "#%% md\n"
    }
   },
   "source": [
    "## Voor- en nadelen\n",
    "Random Forests zijn een uitbereiding op Decision Trees, die reeds behandeld zijn bij Computational Modelling.\n",
    "\n",
    "De voordelen van Random Forests zijn de volgenden:\n",
    "* Random Forest kunnen zowel gebruikt worden voor classificatie en regressie problemen, en doet het op beide vlakken een redelijk goed;\n",
    "* Een van de voordelen van Random Forests is de kracht die ze heeft in het  gebruik van grote data set met hoge dimensionaliteit. RF kan eenvoudig omgaan met duizenden input variabelen en identificeert zelfstandig de belangrijkste variabelen waardoor het ook meteen als Dimension Reduction Mehtod kan worden beschouwd;\n",
    "* RF heeft een effectieve methode voor het omgaan met missende data en behoudt accuraatheid zelfs als grote delen van de data niet beschikbaar zijn;\n",
    "* RF heeft methoden om fouten in de balans tussen klassen te corrigeren;\n",
    "\n",
    "Nadelen van random forests:\n",
    "* RFs zijn prima voor classificatie, maar minder geschikt voor regressie problemen, omdat het geen continue precieze voorspelling kan doen. In het geval van regressie is RF beperkt tot het bereik van de training data. Tevens is het erg gevoelig voor overfitting als de training data erg noisy is.\n",
    "* RF wordt vaak gezien als blackbox methode, met weinig controle over wat het model precies doet. Het beste is om verschillende combinaties van parameters en random seeds te proberen.\n",
    " "
   ]
  },
  {
   "cell_type": "markdown",
   "metadata": {
    "pycharm": {
     "name": "#%% md\n"
    }
   },
   "source": [
    "## Wat is een Random Forest?\n",
    "Random Forest is een tree-gebaseerd algoritme waarbij verschillende bomen (decision trees) worden gemaakt en worden gecombineerd zodat ze een verbetering leveren voor de generalisatie van het model. De methode waarmee bomen met elkaar worden gecombineerd heet de 'ensemble' methode. Ensembling is niets anders dan het combineren van zwakke modellen (individuele bomen) tot een sterk model.\n",
    "\n",
    "Zeg, bijvoorbeeld, dat je een film wilt gaan kijken, maar je bent onzeker over de reviews van de film. Je vraagt aan 10 personen die de film hebben gekeken, wat ze ervan vonden. 8 van hen vertellen je dat \"de film fantastisch is\". Aangezien de meerderheid lovend is over de film, besluit je om toch te gaan. Dit is een voorbeeld van ensemble in het dagelijkse leven.\n",
    "\n",
    "**Trivia**: Het random forests algoritme is gemaakt in 2001 door Leo Brieman en Adele Cutler."
   ]
  },
  {
   "cell_type": "markdown",
   "metadata": {
    "pycharm": {
     "name": "#%% md\n"
    }
   },
   "source": [
    "## Hoe werkt het precies? (Decision trees)\n",
    "Om te begrijpen hoe een random forest precies werkt, moeten we eerst even bespreken hoe een decision tree if werkt:\n",
    "\n",
    "![decision tree](http://blog.hackerearth.com/wp-content/uploads/2016/12/root-01.jpg)\n",
    "\n",
    "1. Een decision tree verdeelt een gegeven een data frame (n $\\times$ p) gebaseerd op regels (if-then). Deze regels verdelen de datapunten in verschillende, niet overlappende gebieden. Deze regels worden bepaald aan de hand van hun bijdrage aan de homogeenheid of puurheid van de resulterende kind-knopen van de boom (X2, X3)\n",
    "\n",
    "2. In het plaatje hierboven wordt de variabele X1 gekozen omdat deze de hoogste puurheid levert in de kind-knopen, waardoor ze de root-node wordt. Een variabele in de root-node wordt gezien als de meest belangrijke (voorspellende) variabele in de data set.\n",
    "\n",
    "3. Maar hoe bepalen we nu precies die puurheid? Of in andere woorden, hoe bepaalt de boom op welke variabele het gaat splitsen?\n",
    "\n",
    "In regressie bomen (waar de output een voorspelling op basis van het gemiddelde van de observaties in de eindknopen) wordt de split gekozen op basis van het minimaliseren van de RSS (Root Summed Square). De variabele die de grootste vermindering in RSS bereikt wordt gekozen als split. De boom splits vervolgend met een top-down greedy aanpak (recursive binary splitting). Het splitsen wordt \"greedy\" (hebberig) genoemd omdat het algoritme de beste splits zo snel mogelijk probeert uit te voeren, in plaats van deze te bewaren voor later.\n",
    "Bij classificatie bomen (waar de output wordt bepaald door te kijken naar de observaties in de eindknopen) wordt de split bepaald door een van de volgende methoden:\n",
    "* Gini Index -- een mate van knoop \"puurheid\". Hoe kleiner de Gini index, hoe puurder de knoop (hoe meer de observaties op elkaar lijken). Om te splitsen, moet de Gini index van een kindknoop lager zijn dan die van zijn ouder.\n",
    "* Entropy -- Entropy is een mate van chaos (onpuurheid). Voor een binaire klasse ($a$ of $b$) is de Entropy maximaal als $P = 0.5$; dat wil zeggen, als P$(X=a) = 0.5$ of $P(X=b) = 0.5$, oftewel, de kans dat een nieuwe observatie label $a$ heeft is 50% (idem voor label $b$). De Entropy is minimaal als deze kans 0 of 1 is.\n",
    "$$Entropy = - p(a)*log(p(a)) - p(b)*log(p(b))$$\n",
    "\n",
    "![Entropy](http://blog.hackerearth.com/wp-content/uploads/2016/12/ent.png)\n",
    "\n",
    "In een notendop, elke boom probeert om regels te cree\\\"eren zodanig dat de resulterende eindknopen zo puur mogelijk zijn. Hoe hoger de puurheid, hoe zekerder de beslissing die wordt genomen."
   ]
  },
  {
   "cell_type": "markdown",
   "metadata": {
    "pycharm": {
     "name": "#%% md\n"
    }
   },
   "source": [
    "## Bouwen van een Decision Tree\n",
    "Doe het volgende:\n",
    "* Laad de Titanic Data set;\n",
    "* Bepaal (op het oog) de belangrijkste 3 variabelen waarmee je zou kunnen bepalen of iemand overleeft;\n",
    "* Implementeer de Entropy-formule van hierboven, en bepaal de Entropy van elk van deze drie variabelen."
   ]
  },
  {
   "cell_type": "code",
   "execution_count": 1,
   "metadata": {
    "pycharm": {
     "name": "#%%\n"
    }
   },
   "outputs": [],
   "source": [
    "import os\n",
    "import pandas as pd\n",
    "import numpy as np\n",
    "import seaborn as sns\n",
    "import matplotlib.pyplot as plt\n",
    "from sklearn.preprocessing import LabelEncoder\n",
    "%matplotlib inline"
   ]
  },
  {
   "cell_type": "code",
   "execution_count": 2,
   "metadata": {
    "pycharm": {
     "name": "#%%\n"
    }
   },
   "outputs": [
    {
     "data": {
      "text/html": [
       "<div>\n",
       "<style scoped>\n",
       "    .dataframe tbody tr th:only-of-type {\n",
       "        vertical-align: middle;\n",
       "    }\n",
       "\n",
       "    .dataframe tbody tr th {\n",
       "        vertical-align: top;\n",
       "    }\n",
       "\n",
       "    .dataframe thead th {\n",
       "        text-align: right;\n",
       "    }\n",
       "</style>\n",
       "<table border=\"1\" class=\"dataframe\">\n",
       "  <thead>\n",
       "    <tr style=\"text-align: right;\">\n",
       "      <th></th>\n",
       "      <th>PassengerId</th>\n",
       "      <th>Survived</th>\n",
       "      <th>Pclass</th>\n",
       "      <th>Name</th>\n",
       "      <th>Sex</th>\n",
       "      <th>Age</th>\n",
       "      <th>SibSp</th>\n",
       "      <th>Parch</th>\n",
       "      <th>Ticket</th>\n",
       "      <th>Fare</th>\n",
       "      <th>Cabin</th>\n",
       "      <th>Embarked</th>\n",
       "    </tr>\n",
       "  </thead>\n",
       "  <tbody>\n",
       "    <tr>\n",
       "      <th>0</th>\n",
       "      <td>1</td>\n",
       "      <td>0</td>\n",
       "      <td>3</td>\n",
       "      <td>Braund, Mr. Owen Harris</td>\n",
       "      <td>male</td>\n",
       "      <td>22.0</td>\n",
       "      <td>1</td>\n",
       "      <td>0</td>\n",
       "      <td>A/5 21171</td>\n",
       "      <td>7.2500</td>\n",
       "      <td>NaN</td>\n",
       "      <td>S</td>\n",
       "    </tr>\n",
       "    <tr>\n",
       "      <th>1</th>\n",
       "      <td>2</td>\n",
       "      <td>1</td>\n",
       "      <td>1</td>\n",
       "      <td>Cumings, Mrs. John Bradley (Florence Briggs Th...</td>\n",
       "      <td>female</td>\n",
       "      <td>38.0</td>\n",
       "      <td>1</td>\n",
       "      <td>0</td>\n",
       "      <td>PC 17599</td>\n",
       "      <td>71.2833</td>\n",
       "      <td>C85</td>\n",
       "      <td>C</td>\n",
       "    </tr>\n",
       "    <tr>\n",
       "      <th>2</th>\n",
       "      <td>3</td>\n",
       "      <td>1</td>\n",
       "      <td>3</td>\n",
       "      <td>Heikkinen, Miss. Laina</td>\n",
       "      <td>female</td>\n",
       "      <td>26.0</td>\n",
       "      <td>0</td>\n",
       "      <td>0</td>\n",
       "      <td>STON/O2. 3101282</td>\n",
       "      <td>7.9250</td>\n",
       "      <td>NaN</td>\n",
       "      <td>S</td>\n",
       "    </tr>\n",
       "    <tr>\n",
       "      <th>3</th>\n",
       "      <td>4</td>\n",
       "      <td>1</td>\n",
       "      <td>1</td>\n",
       "      <td>Futrelle, Mrs. Jacques Heath (Lily May Peel)</td>\n",
       "      <td>female</td>\n",
       "      <td>35.0</td>\n",
       "      <td>1</td>\n",
       "      <td>0</td>\n",
       "      <td>113803</td>\n",
       "      <td>53.1000</td>\n",
       "      <td>C123</td>\n",
       "      <td>S</td>\n",
       "    </tr>\n",
       "    <tr>\n",
       "      <th>4</th>\n",
       "      <td>5</td>\n",
       "      <td>0</td>\n",
       "      <td>3</td>\n",
       "      <td>Allen, Mr. William Henry</td>\n",
       "      <td>male</td>\n",
       "      <td>35.0</td>\n",
       "      <td>0</td>\n",
       "      <td>0</td>\n",
       "      <td>373450</td>\n",
       "      <td>8.0500</td>\n",
       "      <td>NaN</td>\n",
       "      <td>S</td>\n",
       "    </tr>\n",
       "  </tbody>\n",
       "</table>\n",
       "</div>"
      ],
      "text/plain": [
       "   PassengerId  Survived  Pclass  \\\n",
       "0            1         0       3   \n",
       "1            2         1       1   \n",
       "2            3         1       3   \n",
       "3            4         1       1   \n",
       "4            5         0       3   \n",
       "\n",
       "                                                Name     Sex   Age  SibSp  \\\n",
       "0                            Braund, Mr. Owen Harris    male  22.0      1   \n",
       "1  Cumings, Mrs. John Bradley (Florence Briggs Th...  female  38.0      1   \n",
       "2                             Heikkinen, Miss. Laina  female  26.0      0   \n",
       "3       Futrelle, Mrs. Jacques Heath (Lily May Peel)  female  35.0      1   \n",
       "4                           Allen, Mr. William Henry    male  35.0      0   \n",
       "\n",
       "   Parch            Ticket     Fare Cabin Embarked  \n",
       "0      0         A/5 21171   7.2500   NaN        S  \n",
       "1      0          PC 17599  71.2833   C85        C  \n",
       "2      0  STON/O2. 3101282   7.9250   NaN        S  \n",
       "3      0            113803  53.1000  C123        S  \n",
       "4      0            373450   8.0500   NaN        S  "
      ]
     },
     "execution_count": 2,
     "metadata": {},
     "output_type": "execute_result"
    }
   ],
   "source": [
    "titanic_train = pd.read_csv(r\"train.csv\")\n",
    "titanic_train.dropna()\n",
    "titanic_train.head()"
   ]
  },
  {
   "cell_type": "markdown",
   "metadata": {},
   "source": [
    "Ik gok dat `Sex`, `Pclass` en `Age` de belangrijkste drie variabelen zijn."
   ]
  },
  {
   "cell_type": "code",
   "execution_count": 3,
   "metadata": {
    "pycharm": {
     "name": "#%%\n"
    }
   },
   "outputs": [],
   "source": [
    "# Determine best classification variables for Survival\n",
    "sex = titanic_train[\"Sex\"]\n",
    "pclass = titanic_train[\"Pclass\"]\n",
    "age = titanic_train[\"Age\"]\n"
   ]
  },
  {
   "cell_type": "code",
   "execution_count": 4,
   "metadata": {
    "pycharm": {
     "name": "#%%\n"
    }
   },
   "outputs": [],
   "source": [
    "# Implement Entropy\n",
    "def entropy_pd(series, bins=2, _print=False):\n",
    "    counts = series.value_counts(bins=bins)\n",
    "    p = counts / counts.sum()\n",
    "    \n",
    "    if _print:\n",
    "        print(p)\n",
    "    \n",
    "    H = (-p*np.log2(p)).sum()\n",
    "    return H\n",
    "\n",
    "def entropy(series, bins=2, _print=False):\n",
    "    if series.dtype not in [np.int64, np.float64]:\n",
    "        le = LabelEncoder()\n",
    "        le.fit(series)\n",
    "        array = le.transform(series)\n",
    "\n",
    "        series = pd.Series(array)\n",
    "    \n",
    "    counts = series.value_counts(bins=bins)\n",
    "    p = counts / counts.sum()\n",
    "    \n",
    "    if _print:\n",
    "        print(p)\n",
    "    \n",
    "    H = (-p*np.log2(p)).sum()\n",
    "    return H\n",
    "    "
   ]
  },
  {
   "cell_type": "code",
   "execution_count": 5,
   "metadata": {
    "pycharm": {
     "name": "#%% \n"
    }
   },
   "outputs": [
    {
     "name": "stdout",
     "output_type": "stream",
     "text": [
      "Sex: 0.9362046432498521\n",
      "Pclass: 0.9924624631174279\n",
      "Age: 0.7416433363998256\n"
     ]
    }
   ],
   "source": [
    "# Calculate and show Entropy of selected variables\n",
    "print(f\"Sex: {entropy(sex)}\")\n",
    "print(f\"Pclass: {entropy(pclass)}\")\n",
    "print(f\"Age: {entropy(age)}\")\n",
    "# print(f\"Survived: {entropy(titanic_train[\"Survived\"])}\")"
   ]
  },
  {
   "cell_type": "code",
   "execution_count": 6,
   "metadata": {
    "pycharm": {
     "name": "#%%\n"
    }
   },
   "outputs": [],
   "source": [
    "# Bouw een decision tree (https://scikit-learn.org/stable/modules/generated/sklearn.tree.DecisionTreeClassifier.html)\n",
    "# Kiest je sklearn model ook voor dezelfde root-variabele?\n",
    "from sklearn.tree import DecisionTreeClassifier"
   ]
  },
  {
   "cell_type": "markdown",
   "metadata": {
    "pycharm": {
     "name": "#%% md\n"
    }
   },
   "source": [
    "## Vervolg\n",
    "Decision Trees hebben te leiden van hoge variantie (\"high variance\"). \"High Variance\" betekent dat het een hoge voorspellingsfout bij ongeziene data. Dit probleem kan worden opgelost door meer data te gebruiken voor het trainen. Maar als je data set beperkt is, kan je gebruik maken van resampling technieken, zoals bagging en random forest om meer data te genereren."
   ]
  },
  {
   "cell_type": "markdown",
   "metadata": {
    "pycharm": {
     "name": "#%% md\n"
    }
   },
   "source": [
    "## Hoe werkt het precies? (Random forest)\n",
    "Het bouwen van meerdere decision trees resulteert in een bos (forest). Een random forest werkt als volgt:\n",
    "Eerst maakt het gebruik van het Bagging (Bootstrap Aggregating) algoritme om random samples te creeeren. Gegeven een data set D1 ($n$ rijen en $p$ kolommen) creeert het een nieuwe data set (D2) door random $n$ gevallen te samplen. Ongeveer $\\frac{1}{3}$ van de rijen van D1 worden achterwege gelaten; deze heten de Out of Bag (OOB) samples.\n",
    "\n",
    "Vervolgens wordt het model getraind op D2. De OOB samples worden gebruikt om te nauwkeurigheid van dit model te bepalen.\n",
    "Van de $p$ kolommen worden $P << p$ kolommen geselcteerd in elke knoop. De $P$ kolommen worden random gekozen. Veelal wordt voor regressie gekozen voor een $P=p/3$ en voor classificatie voor $P=sqrt(p)$.\n",
    "\n",
    "In tegenstelling tot een boom, wordt er bij een random forest geen pruning toegepast; dat wil zeggen, elke boom wordt volledig gegroeid. Bij decision trees wordt pruning gebruikt om overfitting te voorkomen. Pruning betekent dat subtrees gekozen worden die de laagste test error rate hebben. We kunnen cross validation toepassen om de test error te bepalen van subtrees.\n",
    "\n",
    "Meerdere bomen worden op deze wijze gemaakt, en het uiteindelijke model is verkregen door het nemen van een gemiddelde of majority vote van de resultaten van elke boom.\n",
    "Elke boom wordt gegroeid op een ander deel van de originele data. Aangezien de OOB gebruikt kan worden voor het bepalen van de error, is cross validatie niet nodig bij het maken van een random forest.\n"
   ]
  },
  {
   "cell_type": "markdown",
   "metadata": {
    "pycharm": {
     "name": "#%% md\n"
    }
   },
   "source": [
    "## Bouwen van een Random Forest\n",
    "Doe het volgende:\n",
    "* Implementeer het bagging algoritme om verschillende nieuwe data sets te kunnen maken van de originele data set;\n",
    "* Creeer [50]? decision trees (sklearn trees) op nieuw gegenereerde data sets;\n",
    "* Valideer je random forest (gebruik majority voting voor ensembling) op een (van te voren) apart gezette validatie set.\n",
    "* Vergelijk je implementatie/score tegenover de sklearn implementatie: https://scikit-learn.org/stable/modules/generated/sklearn.ensemble.RandomForestClassifier.html"
   ]
  },
  {
   "cell_type": "code",
   "execution_count": 7,
   "metadata": {
    "pycharm": {
     "name": "#%%\n"
    }
   },
   "outputs": [],
   "source": [
    "# Implement Bagging Algorithm\n",
    "def bagging(df, samples, frac=1/3):\n",
    "    return [df.sample(frac=frac) for _ in range(samples)]"
   ]
  },
  {
   "cell_type": "code",
   "execution_count": 8,
   "metadata": {
    "pycharm": {
     "name": "#%%\n"
    }
   },
   "outputs": [],
   "source": [
    "# Create 50 new data sets\n",
    "# from sklearn.preprocessing import OneHotEncoder\n",
    "# enc = OneHotEncoder()\n",
    "# X = enc.fit_transform(titanic_train.drop(\"Survived\", \"A\"))\n",
    "\n",
    "datasets = bagging(titanic_train, 50)\n"
   ]
  },
  {
   "cell_type": "code",
   "execution_count": 9,
   "metadata": {
    "pycharm": {
     "name": "#%% \n"
    }
   },
   "outputs": [
    {
     "ename": "ValueError",
     "evalue": "could not convert string to float: 'Kirkland, Rev. Charles Leonard'",
     "output_type": "error",
     "traceback": [
      "\u001b[1;31m---------------------------------------------------------------------------\u001b[0m",
      "\u001b[1;31mValueError\u001b[0m                                Traceback (most recent call last)",
      "\u001b[1;32m<ipython-input-9-4add9e64c4a9>\u001b[0m in \u001b[0;36m<module>\u001b[1;34m\u001b[0m\n\u001b[0;32m      1\u001b[0m \u001b[1;31m# Train 50 decision trees on new data sets\u001b[0m\u001b[1;33m\u001b[0m\u001b[1;33m\u001b[0m\u001b[1;33m\u001b[0m\u001b[0m\n\u001b[0;32m      2\u001b[0m \u001b[1;33m\u001b[0m\u001b[0m\n\u001b[1;32m----> 3\u001b[1;33m \u001b[0mtrees\u001b[0m \u001b[1;33m=\u001b[0m \u001b[1;33m[\u001b[0m\u001b[0mDecisionTreeClassifier\u001b[0m\u001b[1;33m(\u001b[0m\u001b[1;33m)\u001b[0m\u001b[1;33m.\u001b[0m\u001b[0mfit\u001b[0m\u001b[1;33m(\u001b[0m\u001b[0mdata\u001b[0m\u001b[1;33m.\u001b[0m\u001b[0mdrop\u001b[0m\u001b[1;33m(\u001b[0m\u001b[1;33m[\u001b[0m\u001b[1;34m\"Survived\"\u001b[0m\u001b[1;33m]\u001b[0m\u001b[1;33m,\u001b[0m \u001b[0maxis\u001b[0m\u001b[1;33m=\u001b[0m\u001b[1;36m1\u001b[0m\u001b[1;33m)\u001b[0m\u001b[1;33m,\u001b[0m \u001b[0mdata\u001b[0m\u001b[1;33m[\u001b[0m\u001b[1;34m\"Survived\"\u001b[0m\u001b[1;33m]\u001b[0m\u001b[1;33m)\u001b[0m \u001b[1;32mfor\u001b[0m \u001b[0mdata\u001b[0m \u001b[1;32min\u001b[0m \u001b[0mdatasets\u001b[0m\u001b[1;33m]\u001b[0m\u001b[1;33m\u001b[0m\u001b[1;33m\u001b[0m\u001b[0m\n\u001b[0m",
      "\u001b[1;32m<ipython-input-9-4add9e64c4a9>\u001b[0m in \u001b[0;36m<listcomp>\u001b[1;34m(.0)\u001b[0m\n\u001b[0;32m      1\u001b[0m \u001b[1;31m# Train 50 decision trees on new data sets\u001b[0m\u001b[1;33m\u001b[0m\u001b[1;33m\u001b[0m\u001b[1;33m\u001b[0m\u001b[0m\n\u001b[0;32m      2\u001b[0m \u001b[1;33m\u001b[0m\u001b[0m\n\u001b[1;32m----> 3\u001b[1;33m \u001b[0mtrees\u001b[0m \u001b[1;33m=\u001b[0m \u001b[1;33m[\u001b[0m\u001b[0mDecisionTreeClassifier\u001b[0m\u001b[1;33m(\u001b[0m\u001b[1;33m)\u001b[0m\u001b[1;33m.\u001b[0m\u001b[0mfit\u001b[0m\u001b[1;33m(\u001b[0m\u001b[0mdata\u001b[0m\u001b[1;33m.\u001b[0m\u001b[0mdrop\u001b[0m\u001b[1;33m(\u001b[0m\u001b[1;33m[\u001b[0m\u001b[1;34m\"Survived\"\u001b[0m\u001b[1;33m]\u001b[0m\u001b[1;33m,\u001b[0m \u001b[0maxis\u001b[0m\u001b[1;33m=\u001b[0m\u001b[1;36m1\u001b[0m\u001b[1;33m)\u001b[0m\u001b[1;33m,\u001b[0m \u001b[0mdata\u001b[0m\u001b[1;33m[\u001b[0m\u001b[1;34m\"Survived\"\u001b[0m\u001b[1;33m]\u001b[0m\u001b[1;33m)\u001b[0m \u001b[1;32mfor\u001b[0m \u001b[0mdata\u001b[0m \u001b[1;32min\u001b[0m \u001b[0mdatasets\u001b[0m\u001b[1;33m]\u001b[0m\u001b[1;33m\u001b[0m\u001b[1;33m\u001b[0m\u001b[0m\n\u001b[0m",
      "\u001b[1;32m~\\Anaconda3\\envs\\HPP\\lib\\site-packages\\sklearn\\tree\\_classes.py\u001b[0m in \u001b[0;36mfit\u001b[1;34m(self, X, y, sample_weight, check_input, X_idx_sorted)\u001b[0m\n\u001b[0;32m    875\u001b[0m             \u001b[0msample_weight\u001b[0m\u001b[1;33m=\u001b[0m\u001b[0msample_weight\u001b[0m\u001b[1;33m,\u001b[0m\u001b[1;33m\u001b[0m\u001b[1;33m\u001b[0m\u001b[0m\n\u001b[0;32m    876\u001b[0m             \u001b[0mcheck_input\u001b[0m\u001b[1;33m=\u001b[0m\u001b[0mcheck_input\u001b[0m\u001b[1;33m,\u001b[0m\u001b[1;33m\u001b[0m\u001b[1;33m\u001b[0m\u001b[0m\n\u001b[1;32m--> 877\u001b[1;33m             X_idx_sorted=X_idx_sorted)\n\u001b[0m\u001b[0;32m    878\u001b[0m         \u001b[1;32mreturn\u001b[0m \u001b[0mself\u001b[0m\u001b[1;33m\u001b[0m\u001b[1;33m\u001b[0m\u001b[0m\n\u001b[0;32m    879\u001b[0m \u001b[1;33m\u001b[0m\u001b[0m\n",
      "\u001b[1;32m~\\Anaconda3\\envs\\HPP\\lib\\site-packages\\sklearn\\tree\\_classes.py\u001b[0m in \u001b[0;36mfit\u001b[1;34m(self, X, y, sample_weight, check_input, X_idx_sorted)\u001b[0m\n\u001b[0;32m    147\u001b[0m \u001b[1;33m\u001b[0m\u001b[0m\n\u001b[0;32m    148\u001b[0m         \u001b[1;32mif\u001b[0m \u001b[0mcheck_input\u001b[0m\u001b[1;33m:\u001b[0m\u001b[1;33m\u001b[0m\u001b[1;33m\u001b[0m\u001b[0m\n\u001b[1;32m--> 149\u001b[1;33m             \u001b[0mX\u001b[0m \u001b[1;33m=\u001b[0m \u001b[0mcheck_array\u001b[0m\u001b[1;33m(\u001b[0m\u001b[0mX\u001b[0m\u001b[1;33m,\u001b[0m \u001b[0mdtype\u001b[0m\u001b[1;33m=\u001b[0m\u001b[0mDTYPE\u001b[0m\u001b[1;33m,\u001b[0m \u001b[0maccept_sparse\u001b[0m\u001b[1;33m=\u001b[0m\u001b[1;34m\"csc\"\u001b[0m\u001b[1;33m)\u001b[0m\u001b[1;33m\u001b[0m\u001b[1;33m\u001b[0m\u001b[0m\n\u001b[0m\u001b[0;32m    150\u001b[0m             \u001b[0my\u001b[0m \u001b[1;33m=\u001b[0m \u001b[0mcheck_array\u001b[0m\u001b[1;33m(\u001b[0m\u001b[0my\u001b[0m\u001b[1;33m,\u001b[0m \u001b[0mensure_2d\u001b[0m\u001b[1;33m=\u001b[0m\u001b[1;32mFalse\u001b[0m\u001b[1;33m,\u001b[0m \u001b[0mdtype\u001b[0m\u001b[1;33m=\u001b[0m\u001b[1;32mNone\u001b[0m\u001b[1;33m)\u001b[0m\u001b[1;33m\u001b[0m\u001b[1;33m\u001b[0m\u001b[0m\n\u001b[0;32m    151\u001b[0m             \u001b[1;32mif\u001b[0m \u001b[0missparse\u001b[0m\u001b[1;33m(\u001b[0m\u001b[0mX\u001b[0m\u001b[1;33m)\u001b[0m\u001b[1;33m:\u001b[0m\u001b[1;33m\u001b[0m\u001b[1;33m\u001b[0m\u001b[0m\n",
      "\u001b[1;32m~\\Anaconda3\\envs\\HPP\\lib\\site-packages\\sklearn\\utils\\validation.py\u001b[0m in \u001b[0;36mcheck_array\u001b[1;34m(array, accept_sparse, accept_large_sparse, dtype, order, copy, force_all_finite, ensure_2d, allow_nd, ensure_min_samples, ensure_min_features, warn_on_dtype, estimator)\u001b[0m\n\u001b[0;32m    529\u001b[0m                     \u001b[0marray\u001b[0m \u001b[1;33m=\u001b[0m \u001b[0marray\u001b[0m\u001b[1;33m.\u001b[0m\u001b[0mastype\u001b[0m\u001b[1;33m(\u001b[0m\u001b[0mdtype\u001b[0m\u001b[1;33m,\u001b[0m \u001b[0mcasting\u001b[0m\u001b[1;33m=\u001b[0m\u001b[1;34m\"unsafe\"\u001b[0m\u001b[1;33m,\u001b[0m \u001b[0mcopy\u001b[0m\u001b[1;33m=\u001b[0m\u001b[1;32mFalse\u001b[0m\u001b[1;33m)\u001b[0m\u001b[1;33m\u001b[0m\u001b[1;33m\u001b[0m\u001b[0m\n\u001b[0;32m    530\u001b[0m                 \u001b[1;32melse\u001b[0m\u001b[1;33m:\u001b[0m\u001b[1;33m\u001b[0m\u001b[1;33m\u001b[0m\u001b[0m\n\u001b[1;32m--> 531\u001b[1;33m                     \u001b[0marray\u001b[0m \u001b[1;33m=\u001b[0m \u001b[0mnp\u001b[0m\u001b[1;33m.\u001b[0m\u001b[0masarray\u001b[0m\u001b[1;33m(\u001b[0m\u001b[0marray\u001b[0m\u001b[1;33m,\u001b[0m \u001b[0morder\u001b[0m\u001b[1;33m=\u001b[0m\u001b[0morder\u001b[0m\u001b[1;33m,\u001b[0m \u001b[0mdtype\u001b[0m\u001b[1;33m=\u001b[0m\u001b[0mdtype\u001b[0m\u001b[1;33m)\u001b[0m\u001b[1;33m\u001b[0m\u001b[1;33m\u001b[0m\u001b[0m\n\u001b[0m\u001b[0;32m    532\u001b[0m             \u001b[1;32mexcept\u001b[0m \u001b[0mComplexWarning\u001b[0m\u001b[1;33m:\u001b[0m\u001b[1;33m\u001b[0m\u001b[1;33m\u001b[0m\u001b[0m\n\u001b[0;32m    533\u001b[0m                 raise ValueError(\"Complex data not supported\\n\"\n",
      "\u001b[1;32m~\\Anaconda3\\envs\\HPP\\lib\\site-packages\\numpy\\core\\_asarray.py\u001b[0m in \u001b[0;36masarray\u001b[1;34m(a, dtype, order)\u001b[0m\n\u001b[0;32m     83\u001b[0m \u001b[1;33m\u001b[0m\u001b[0m\n\u001b[0;32m     84\u001b[0m     \"\"\"\n\u001b[1;32m---> 85\u001b[1;33m     \u001b[1;32mreturn\u001b[0m \u001b[0marray\u001b[0m\u001b[1;33m(\u001b[0m\u001b[0ma\u001b[0m\u001b[1;33m,\u001b[0m \u001b[0mdtype\u001b[0m\u001b[1;33m,\u001b[0m \u001b[0mcopy\u001b[0m\u001b[1;33m=\u001b[0m\u001b[1;32mFalse\u001b[0m\u001b[1;33m,\u001b[0m \u001b[0morder\u001b[0m\u001b[1;33m=\u001b[0m\u001b[0morder\u001b[0m\u001b[1;33m)\u001b[0m\u001b[1;33m\u001b[0m\u001b[1;33m\u001b[0m\u001b[0m\n\u001b[0m\u001b[0;32m     86\u001b[0m \u001b[1;33m\u001b[0m\u001b[0m\n\u001b[0;32m     87\u001b[0m \u001b[1;33m\u001b[0m\u001b[0m\n",
      "\u001b[1;31mValueError\u001b[0m: could not convert string to float: 'Kirkland, Rev. Charles Leonard'"
     ]
    }
   ],
   "source": [
    "# Train 50 decision trees on new data sets\n",
    "\n",
    "trees = [DecisionTreeClassifier().fit(data.drop([\"Survived\"], axis=1), data[\"Survived\"]) for data in datasets]"
   ]
  },
  {
   "cell_type": "code",
   "execution_count": null,
   "metadata": {
    "pycharm": {
     "name": "#%%\n"
    }
   },
   "outputs": [],
   "source": [
    "# Implement SKLearn Random Forest on Titanic Data set\n",
    "# Compare performances"
   ]
  },
  {
   "cell_type": "markdown",
   "metadata": {
    "pycharm": {
     "name": "#%% md\n"
    }
   },
   "source": [
    "## Bronnen\n",
    "* [1] Practical Tutorial on Random Forest and Parameter Tuning in R: https://www.hackerearth.com/practice/machine-learning/machine-learning-algorithms/tutorial-random-forest-parameter-tuning-r/tutorial/"
   ]
  }
 ],
 "metadata": {
  "kernelspec": {
   "display_name": "Python 3",
   "language": "python",
   "name": "python3"
  },
  "language_info": {
   "codemirror_mode": {
    "name": "ipython",
    "version": 3
   },
   "file_extension": ".py",
   "mimetype": "text/x-python",
   "name": "python",
   "nbconvert_exporter": "python",
   "pygments_lexer": "ipython3",
   "version": "3.7.6"
  },
  "pycharm": {
   "stem_cell": {
    "cell_type": "raw",
    "metadata": {
     "collapsed": false
    },
    "source": []
   }
  }
 },
 "nbformat": 4,
 "nbformat_minor": 1
}
